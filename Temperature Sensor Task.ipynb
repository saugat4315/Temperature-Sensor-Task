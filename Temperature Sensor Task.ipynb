{
 "cells": [
  {
   "cell_type": "markdown",
   "metadata": {},
   "source": [
    "# Temperature Sensor Task\n",
    "\n",
    "Write an application that reads ADC output from the text file, converts it to temperature in celsius, and sends it to a HTTP REST endpoint. With the following requirements:\n",
    "\n",
    "The getTemperature function should be expanded to read a single value from the text file temperature.txt.\n",
    "A new value can only be read every 100ms.\n",
    "The application should further calculate the max, min, and average temperature over a period of 2 minutes.\n",
    "Every 2 minutes the application should send the stored values to a HTTP REST API with the address http://localhost:5000/api/temperature using a HTTP POST request.\n",
    "\n"
   ]
  },
  {
   "cell_type": "code",
   "execution_count": 72,
   "metadata": {},
   "outputs": [],
   "source": [
    "SystemVolt = 5 #let us assume system voltage as 5V\n",
    "ADC_Resolution = 4095  #for 12 bit resolution the maximum value is 4095\n",
    "Max_Volt = 3.3\n",
    "Min_Volt = 0\n",
    "\n",
    "MIN_TEMP = -50\n",
    "MAX_TEMP = 50"
   ]
  },
  {
   "cell_type": "code",
   "execution_count": 73,
   "metadata": {},
   "outputs": [],
   "source": [
    "def adc_raw_value(v):\n",
    "    if(v >= Min_Volt and v <= Max_Volt):\n",
    "        ADC = (v*(ADC_Resolution/SystemVolt))\n",
    "        return round(ADC)\n",
    "    else:\n",
    "        return None"
   ]
  },
  {
   "cell_type": "code",
   "execution_count": 74,
   "metadata": {},
   "outputs": [],
   "source": [
    "def adc_to_celcius(x):\n",
    "    if x == 0:\n",
    "        return -50\n",
    "    else:\n",
    "        return ( 0.024*x  -50)   #derived from the linear equation involving ADC and TEMP function\n",
    "    "
   ]
  },
  {
   "cell_type": "code",
   "execution_count": 75,
   "metadata": {},
   "outputs": [],
   "source": [
    "adc_temp = []\n",
    "celcius_temp = []\n",
    "def getTemperature():\n",
    "    with open('temperature.txt')as f:\n",
    "        for line in f:\n",
    "            adc_temp = adc_to_celcius(int(line))\n",
    "            \n",
    "            print(adc_temp)\n",
    "            time.sleep(0.1)"
   ]
  },
  {
   "cell_type": "code",
   "execution_count": 76,
   "metadata": {},
   "outputs": [
    {
     "name": "stdout",
     "output_type": "stream",
     "text": [
      "-0.847999999999999\n"
     ]
    }
   ],
   "source": [
    "print(adc_to_celcius(2048))"
   ]
  },
  {
   "cell_type": "code",
   "execution_count": 77,
   "metadata": {},
   "outputs": [
    {
     "name": "stdout",
     "output_type": "stream",
     "text": [
      "22.0\n"
     ]
    }
   ],
   "source": [
    "print (adc_to_celcius(3000))"
   ]
  },
  {
   "cell_type": "markdown",
   "metadata": {},
   "source": [
    "The values taken every 100ms from 'temprature.txt' did not last for a priod of two minutes so it could not be noted."
   ]
  },
  {
   "cell_type": "code",
   "execution_count": 78,
   "metadata": {},
   "outputs": [],
   "source": [
    "def sensor_temp(v):\n",
    "    print(f\"SENSOR READ: {v} Volt\")\n",
    "    ADC = adc_raw_value(v)\n",
    "    if ADC is None:\n",
    "        print(\"Voltage out of sensor range\")\n",
    "    else:\n",
    "        print(\"\\nAnalog to Digital Convertion\\n\")\n",
    "        print(f\"Analog: {v}\\nDigital: {ADC}\")\n",
    "        \n",
    "        print(f\"The temperature is: {round(adc_to_c(ADC))}\")"
   ]
  },
  {
   "cell_type": "code",
   "execution_count": 79,
   "metadata": {},
   "outputs": [
    {
     "name": "stdout",
     "output_type": "stream",
     "text": [
      "SENSOR READ: 1.221 Volt\n",
      "\n",
      "Analog to Digital Convertion\n",
      "\n",
      "Analog: 1.221\n",
      "Digital: 1000\n",
      "The temperature is: -26\n"
     ]
    }
   ],
   "source": [
    "sensor_temp(1.221) "
   ]
  },
  {
   "cell_type": "code",
   "execution_count": 80,
   "metadata": {},
   "outputs": [
    {
     "name": "stdout",
     "output_type": "stream",
     "text": [
      "SENSOR READ: 1.5 Volt\n",
      "\n",
      "Analog to Digital Convertion\n",
      "\n",
      "Analog: 1.5\n",
      "Digital: 1228\n",
      "The temperature is: -21\n"
     ]
    }
   ],
   "source": [
    "sensor_temp(1.5)"
   ]
  },
  {
   "cell_type": "code",
   "execution_count": 89,
   "metadata": {},
   "outputs": [
    {
     "name": "stdout",
     "output_type": "stream",
     "text": [
      "The minimum temperature in degree celcius is: 7 \n",
      "The maximum temperature in degree celcius is: 4089 \n",
      "The average temperature in degree celcius is: 2037.5567144719687\n"
     ]
    }
   ],
   "source": [
    "#Finding the minimum, maximum and average temperature\n",
    "temp_list = []\n",
    "with open('temperature.txt', 'r') as fp:\n",
    "    temp_list = [int(item) for item in fp.readlines()]\n",
    "\n",
    "#Calculate minimum, maximum and average and print it\n",
    "minimum = min(temp_list)\n",
    "maximum = max(temp_list)\n",
    "average = sum(temp_list)/len(temp_list)\n",
    "\n",
    "print('The minimum temperature in degree celcius is:',minimum,'\\nThe maximum temperature in degree celcius is:',maximum,'\\nThe average temperature in degree celcius is:', average)"
   ]
  },
  {
   "cell_type": "code",
   "execution_count": 88,
   "metadata": {},
   "outputs": [
    {
     "ename": "SyntaxError",
     "evalue": "invalid syntax (Temp/ipykernel_15516/800392975.py, line 29)",
     "output_type": "error",
     "traceback": [
      "\u001b[1;36m  File \u001b[1;32m\"C:\\Users\\acer\\AppData\\Local\\Temp/ipykernel_15516/800392975.py\"\u001b[1;36m, line \u001b[1;32m29\u001b[0m\n\u001b[1;33m    print(\"The pastebin URL is:%s\",http://localhost:5000/api/temperature)\u001b[0m\n\u001b[1;37m                                       ^\u001b[0m\n\u001b[1;31mSyntaxError\u001b[0m\u001b[1;31m:\u001b[0m invalid syntax\n"
     ]
    }
   ],
   "source": [
    "# importing the requests library\n",
    "import requests\n",
    "\n",
    "# defining the api-endpoint\n",
    "API_ENDPOINT = \"http://localhost:5000/api/temperature\"\n",
    "\n",
    "# your API key here\n",
    "API_KEY = \"ABCDEFG123456\"\n",
    "\n",
    "#source code\n",
    "\n",
    "def sensor_temp(v):\n",
    "    print(f\"SENSOR READ: {v} Volt\")\n",
    "    ADC = adc_raw_value(v)\n",
    "    if ADC is None:\n",
    "        print(\"Voltage out of sensor range\")\n",
    "    else:\n",
    "        print(\"\\nAnalog to Digital Convertion\\n\")\n",
    "        print(f\"Analog: {v}\\nDigital: {ADC}\")\n",
    "        \n",
    "        print(f\"The temperature is: {round(adc_to_c(ADC))}\")\n",
    "\n",
    "\n",
    "# sending post request and saving response as response object\n",
    "r = requests.post(url = API_ENDPOINT, data = data)\n",
    "\n",
    "# extracting response text\n",
    "pastebin_url = r.text\n",
    "print(\"The pastebin URL is:%s\",http://localhost:5000/api/temperature)\n"
   ]
  },
  {
   "cell_type": "code",
   "execution_count": null,
   "metadata": {},
   "outputs": [],
   "source": []
  },
  {
   "cell_type": "code",
   "execution_count": null,
   "metadata": {},
   "outputs": [],
   "source": []
  }
 ],
 "metadata": {
  "kernelspec": {
   "display_name": "Python 3 (ipykernel)",
   "language": "python",
   "name": "python3"
  },
  "language_info": {
   "codemirror_mode": {
    "name": "ipython",
    "version": 3
   },
   "file_extension": ".py",
   "mimetype": "text/x-python",
   "name": "python",
   "nbconvert_exporter": "python",
   "pygments_lexer": "ipython3",
   "version": "3.9.7"
  }
 },
 "nbformat": 4,
 "nbformat_minor": 4
}
